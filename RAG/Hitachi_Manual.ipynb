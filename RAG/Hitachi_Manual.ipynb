{
 "cells": [
  {
   "cell_type": "code",
   "metadata": {
    "ExecuteTime": {
     "end_time": "2024-06-28T06:41:23.162149Z",
     "start_time": "2024-06-28T06:41:20.523768Z"
    }
   },
   "source": [
    "from dotenv import load_dotenv\n",
    "import os\n",
    "from langchain_openai.chat_models import ChatOpenAI\n",
    "from langchain.prompts import PromptTemplate\n",
    "from langchain_core.output_parsers import StrOutputParser\n",
    "from langchain_community.document_loaders import PyPDFLoader\n",
    "from langchain.text_splitter import RecursiveCharacterTextSplitter\n",
    "from langchain_openai.embeddings import OpenAIEmbeddings\n",
    "from langchain_community.vectorstores import FAISS\n",
    "from langchain_core.runnables import RunnablePassthrough, RunnableParallel"
   ],
   "outputs": [],
   "execution_count": 1
  },
  {
   "cell_type": "code",
   "metadata": {
    "ExecuteTime": {
     "end_time": "2024-06-28T06:41:23.170278Z",
     "start_time": "2024-06-28T06:41:23.163142Z"
    }
   },
   "source": [
    "load_dotenv()\n",
    "API_KEY = os.getenv('OPENAI_API_KEY')\n",
    "Model = 'gpt-3.5-turbo'"
   ],
   "outputs": [],
   "execution_count": 2
  },
  {
   "cell_type": "code",
   "metadata": {
    "ExecuteTime": {
     "end_time": "2024-06-28T06:41:26.233823Z",
     "start_time": "2024-06-28T06:41:23.171272Z"
    }
   },
   "source": [
    "model = ChatOpenAI(api_key=API_KEY,model=Model, temperature=0.2)\n",
    "model.invoke('What is coding?')"
   ],
   "outputs": [
    {
     "data": {
      "text/plain": [
       "AIMessage(content='Coding is the process of creating instructions for a computer to follow in order to perform a specific task or function. It involves writing lines of code using programming languages such as Python, Java, or C++, which are then translated by the computer into actions or outputs. Coding is used to develop software, websites, apps, and other digital technologies. It requires logical thinking, problem-solving skills, and attention to detail.', response_metadata={'token_usage': {'completion_tokens': 82, 'prompt_tokens': 11, 'total_tokens': 93}, 'model_name': 'gpt-3.5-turbo', 'system_fingerprint': None, 'finish_reason': 'stop', 'logprobs': None}, id='run-c3273353-0b71-44e5-9785-60e7e6fa7a16-0', usage_metadata={'input_tokens': 11, 'output_tokens': 82, 'total_tokens': 93})"
      ]
     },
     "execution_count": 3,
     "metadata": {},
     "output_type": "execute_result"
    }
   ],
   "execution_count": 3
  },
  {
   "cell_type": "code",
   "metadata": {
    "ExecuteTime": {
     "end_time": "2024-06-28T06:41:26.240524Z",
     "start_time": "2024-06-28T06:41:26.235814Z"
    }
   },
   "source": [
    "parser = StrOutputParser()\n",
    "chain = model|parser"
   ],
   "outputs": [],
   "execution_count": 4
  },
  {
   "metadata": {
    "ExecuteTime": {
     "end_time": "2024-06-28T06:41:26.250375Z",
     "start_time": "2024-06-28T06:41:26.245515Z"
    }
   },
   "cell_type": "code",
   "source": [
    "def format_text(text):\n",
    "    # Add extra line breaks for better readability\n",
    "    formatted_text = text.replace('\\n', '\\n\\n')\n",
    "    return formatted_text"
   ],
   "outputs": [],
   "execution_count": 5
  },
  {
   "cell_type": "code",
   "metadata": {
    "ExecuteTime": {
     "end_time": "2024-06-28T06:41:27.989203Z",
     "start_time": "2024-06-28T06:41:26.252363Z"
    }
   },
   "source": [
    "formatted_output1 = format_text(chain.invoke('What is coding?'))\n",
    "print(formatted_output1)"
   ],
   "outputs": [
    {
     "name": "stdout",
     "output_type": "stream",
     "text": [
      "Coding is the process of creating instructions for a computer to follow in order to perform a specific task. It involves writing and organizing lines of code in a programming language that the computer can understand and execute. Coding is used to create software, websites, mobile apps, and other digital technologies. It requires logical thinking, problem-solving skills, and attention to detail.\n"
     ]
    }
   ],
   "execution_count": 6
  },
  {
   "cell_type": "code",
   "metadata": {
    "ExecuteTime": {
     "end_time": "2024-06-28T06:41:51.781376Z",
     "start_time": "2024-06-28T06:41:27.990192Z"
    }
   },
   "source": [
    "file_loader = PyPDFLoader('Hitachi Manual.pdf')\n",
    "page = file_loader.load_and_split()\n",
    "len(page)"
   ],
   "outputs": [
    {
     "data": {
      "text/plain": [
       "32"
      ]
     },
     "execution_count": 7,
     "metadata": {},
     "output_type": "execute_result"
    }
   ],
   "execution_count": 7
  },
  {
   "cell_type": "code",
   "metadata": {
    "ExecuteTime": {
     "end_time": "2024-06-28T06:41:51.793490Z",
     "start_time": "2024-06-28T06:41:51.782348Z"
    }
   },
   "source": [
    "splitter = RecursiveCharacterTextSplitter(chunk_size = 1000, chunk_overlap = 100)\n",
    "pages = splitter.split_documents(page)\n",
    "pages[4]"
   ],
   "outputs": [
    {
     "data": {
      "text/plain": [
       "Document(page_content=\"the IFEEL  function will be shut of f. \\nIf the IFEEL  function can't be shut of f, please try\\nto press this button about 5 seconds.\\nAdvice to put the remote controller in the place\\nwhere the indoor unit receive signal easily .\\nAdvice to cancel the IFEEL  mode so as to save\\nenergy when stopping the air conditioner .   ECO BUTT ON \\n   CLEAN BUTT ON 14\\nUsed to stop or start Horizontal adjustment \\nlouver swinging and set the desired left/right\\nairflow direction.   SWING BUTT ON \\n1     indicator MuteEconomy  indicator\\nIfeel\\nLockNanoe  indicator\\nTurbo indicator\\nAirflow up and down  indicator Airflow left and right  indicator15 4\\n1010\\n13 133 31 1\\n2 2\\n6 6\\n5 7 4 14\\n171711 11\\n121295\\n14 8 79\\n16168 15TEMP\\nLOCK\\nPress them together for 3 seconds to start or stop \\n.LOCK\\noperation+1211RTY2\", metadata={'source': 'Hitachi Manual.pdf', 'page': 2})"
      ]
     },
     "execution_count": 8,
     "metadata": {},
     "output_type": "execute_result"
    }
   ],
   "execution_count": 8
  },
  {
   "cell_type": "code",
   "metadata": {
    "ExecuteTime": {
     "end_time": "2024-06-28T06:41:59.147705Z",
     "start_time": "2024-06-28T06:41:51.796482Z"
    }
   },
   "source": [
    "vector_storage = FAISS.from_documents(pages, OpenAIEmbeddings())\n",
    "retriever = vector_storage.as_retriever()"
   ],
   "outputs": [],
   "execution_count": 9
  },
  {
   "cell_type": "code",
   "metadata": {
    "ExecuteTime": {
     "end_time": "2024-06-28T06:41:59.152621Z",
     "start_time": "2024-06-28T06:41:59.148700Z"
    }
   },
   "source": [
    "question_template = \"\"\"\n",
    "You're a smart chatbot that answers user generated prompts only based on the context given to you.\n",
    "You don't make any assumptions.\n",
    "context:{context}\n",
    "question:{question}\n",
    "\"\"\""
   ],
   "outputs": [],
   "execution_count": 10
  },
  {
   "cell_type": "code",
   "metadata": {
    "ExecuteTime": {
     "end_time": "2024-06-28T06:41:59.162340Z",
     "start_time": "2024-06-28T06:41:59.154610Z"
    }
   },
   "source": [
    "prompt = PromptTemplate.from_template(template=question_template)\n",
    "print(prompt.format(context = ' Here is the context to use',\n",
    "              question = ' Answer this question based on the context'))"
   ],
   "outputs": [
    {
     "name": "stdout",
     "output_type": "stream",
     "text": [
      "\n",
      "You're a smart chatbot that answers user generated prompts only based on the context given to you.\n",
      "You don't make any assumptions.\n",
      "context: Here is the context to use\n",
      "question: Answer this question based on the context\n",
      "\n",
      "\n"
     ]
    }
   ],
   "execution_count": 11
  },
  {
   "cell_type": "code",
   "metadata": {
    "ExecuteTime": {
     "end_time": "2024-06-28T06:41:59.172330Z",
     "start_time": "2024-06-28T06:41:59.166328Z"
    }
   },
   "source": "result = RunnableParallel(context = retriever, question = RunnablePassthrough())",
   "outputs": [],
   "execution_count": 12
  },
  {
   "cell_type": "code",
   "metadata": {
    "ExecuteTime": {
     "end_time": "2024-06-28T06:41:59.180597Z",
     "start_time": "2024-06-28T06:41:59.175331Z"
    }
   },
   "source": [
    "chain = result | prompt | model | parser"
   ],
   "outputs": [],
   "execution_count": 13
  },
  {
   "cell_type": "code",
   "metadata": {
    "ExecuteTime": {
     "end_time": "2024-06-28T06:42:00.974347Z",
     "start_time": "2024-06-28T06:41:59.184109Z"
    }
   },
   "source": "chain.invoke('what is coding?')",
   "outputs": [
    {
     "data": {
      "text/plain": [
       "'I\\'m sorry, but based on the context provided, there is no information about \"coding\" in the documents. The documents mainly discuss the operation instructions and safety precautions for a Hitachi appliance.'"
      ]
     },
     "execution_count": 14,
     "metadata": {},
     "output_type": "execute_result"
    }
   ],
   "execution_count": 14
  },
  {
   "cell_type": "code",
   "metadata": {
    "ExecuteTime": {
     "end_time": "2024-06-28T06:42:02.354852Z",
     "start_time": "2024-06-28T06:42:00.976339Z"
    }
   },
   "source": [
    "chain.invoke('What is the title of this pdf?')"
   ],
   "outputs": [
    {
     "data": {
      "text/plain": [
       "'The title of this PDF document is \"Hitachi Manual.pdf\".'"
      ]
     },
     "execution_count": 15,
     "metadata": {},
     "output_type": "execute_result"
    }
   ],
   "execution_count": 15
  },
  {
   "cell_type": "code",
   "metadata": {
    "ExecuteTime": {
     "end_time": "2024-06-28T06:42:02.728331Z",
     "start_time": "2024-06-28T06:42:02.355842Z"
    }
   },
   "source": [
    "retriever.invoke('what is the title of this pdf?')"
   ],
   "outputs": [
    {
     "data": {
      "text/plain": [
       "[Document(page_content='Specifications  in this document  are subject to change  without notice, in order that Hitachi -Johnson  Controls Air Conditioning , Inc. may \\nbring  the latest innovations  to their customers.\\n© 2022 Hitachi -  Johnson Controls  Air Conditioning , Inc. 2022 .05       Version.A      Printed in  ChinaHitachi-Johnson Controls Air Conditioning , Inc.', metadata={'source': 'Hitachi Manual.pdf', 'page': 21}),\n",
       " Document(page_content='available such as the operating manual or \\ninstallation manual.WARNING\\nWARNING\\nCAUTION\\nCAUTION\\nCAUTION\\n13', metadata={'source': 'Hitachi Manual.pdf', 'page': 14}),\n",
       " Document(page_content='the wal  \\nshould be \\nover 250mml\\nover 250mmInstallation instructions \\n    Explanation of symbols displayed on the indoor \\n    unit or outdoor unit.\\nCaution, risk of fire\\nWaring;low burning\\nvelocity materialThis symbol shows that this appliance uses\\na flammable refrigerant.\\nIf the refrigerant is leaked and exposed to \\nan external ignition source, there is a r isk \\nof fire\\nThis symbol shows that this appliance uses\\na flammable refrigerant.\\nIf the refrigerant is leaked and exposed to \\nan external ignition source, there is a r isk \\nof fire[symbol ISO \\n7010-W021\\n(2011-05)]\\nA2L symbol\\n[symbol ISO \\n7000-0790\\n(2004-01)]\\n[symbol ISO \\n7000-1659\\n(2004-01)]\\n[symbol ISO \\n1641-0790\\n(2004-01)]This symbol shows that the operation \\nmanual should be read carefully.\\nThis symbol shows that a s ervice \\npersonnel should be handling this \\nequipment with reference to the \\ninstallation manual.\\nThis symbol shows that information is \\navailable such as the operating manual or \\ninstallation manual.WARNING\\nWARNING', metadata={'source': 'Hitachi Manual.pdf', 'page': 14}),\n",
       " Document(page_content='MODEL\\nRAK-AJ10PCASM/RAC-AJ10PCASM  \\nRAK-AJ13PCASM/RAC-AJ13PCASM  \\nRAK-AJ18PCASM/RAC-AJ18PCASM  \\nRAK-AJ24PCASM/RAC-AJ24PCASM\\nHI2022480HA\\nINSTALLATION \\n& OPERATION \\nMANUAL', metadata={'source': 'Hitachi Manual.pdf', 'page': 0})]"
      ]
     },
     "execution_count": 16,
     "metadata": {},
     "output_type": "execute_result"
    }
   ],
   "execution_count": 16
  },
  {
   "metadata": {
    "ExecuteTime": {
     "end_time": "2024-06-28T06:42:06.213114Z",
     "start_time": "2024-06-28T06:42:02.729322Z"
    }
   },
   "cell_type": "code",
   "source": "chain.invoke('What are the key safety instructions to be followed?')",
   "outputs": [
    {
     "data": {
      "text/plain": [
       "'Some key safety instructions to be followed include:\\n1. Ensuring that no electrical supply is connected to a circuit with a fault that compromises safety until it is satisfactorily dealt with.\\n2. Using an adequate temporary solution if a fault cannot be corrected immediately but operation needs to continue.\\n3. Discharging capacitors in a safe manner to avoid sparking.\\n4. Ensuring that there are no live electrical components and exposed wiring while charging, recovering, or purging the system.\\n5. Checking for continuity of earth bonding.\\n6. Disconnecting all electrical supplies from equipment before repairing sealed components.\\n7. Instructing maintenance staff on the nature of work being carried out and avoiding work in confined spaces.\\n8. Checking for the presence of refrigerant with an appropriate detector before and during work.\\n9. Ensuring the leak detection equipment used is suitable for flammable refrigerants.\\n10. Having appropriate fire extinguishing equipment available if hot work is conducted on refrigeration equipment.'"
      ]
     },
     "execution_count": 17,
     "metadata": {},
     "output_type": "execute_result"
    }
   ],
   "execution_count": 17
  },
  {
   "metadata": {
    "ExecuteTime": {
     "end_time": "2024-06-28T06:42:11.891097Z",
     "start_time": "2024-06-28T06:42:06.215113Z"
    }
   },
   "cell_type": "code",
   "source": "chain.invoke('What are the installation instructions, give in detail as to help with the installation of an indoor unit.')",
   "outputs": [
    {
     "data": {
      "text/plain": [
       "'The installation instructions for the indoor unit are as follows:\\n\\n1. Select the installation locations:\\n- Choose a location where there is no obstacle near the air outlet and air can be easily blown to every corner.\\n- Ensure that piping and wall holes can be easily arranged.\\n- Maintain the required space from the unit to the ceiling and wall according to the installation diagram.\\n- Ensure easy removal of the air filter.\\n- Keep the unit and remote controller at least 1m apart from television, radio, etc.\\n- Keep the unit away from fluorescent lamps.\\n- Do not obstruct the air inlet with any objects.\\n- Install the unit on a strong wall that can bear its weight.\\n- Choose a place that will not increase operation noise and vibration.\\n- Keep the unit away from direct sunlight, heating sources, flammable materials, and combustion apparatuses.\\n- The pipe length should be 15 meters maximum, and the height should be less than 5m.\\n\\n2. Installing the Mounting Plate:\\n- Decide on an installing location for the mounting plate according to the indoor unit location and pipe direction.\\n- Keep the mounting plate horizontal with a ruler or level.\\n- Drill holes of 32mm in depth on the wall for fixing the plate.\\n- Insert plastic plugs into the holes and fix the mounting plate with tapping screws.\\n- Ensure the mounting plate is well fixed before drilling a hole for the pipe.\\n\\nThese detailed instructions should help with the installation of an indoor unit.'"
      ]
     },
     "execution_count": 18,
     "metadata": {},
     "output_type": "execute_result"
    }
   ],
   "execution_count": 18
  },
  {
   "metadata": {
    "ExecuteTime": {
     "end_time": "2024-06-28T06:42:17.571294Z",
     "start_time": "2024-06-28T06:42:11.893099Z"
    }
   },
   "cell_type": "code",
   "source": [
    "formatted_output2 = format_text(chain.invoke('What are the installation instructions, give in detail as to help with the installation of an indoor unit.'))\n",
    "print(formatted_output2)"
   ],
   "outputs": [
    {
     "name": "stdout",
     "output_type": "stream",
     "text": [
      "The installation instructions for the indoor unit are as follows:\n",
      "\n",
      "\n",
      "\n",
      "1. Select the installation locations:\n",
      "\n",
      "   - Choose a location where there is no obstacle near the air outlet and air can be easily blown to every corner.\n",
      "\n",
      "   - Ensure that piping and wall holes can be easily arranged.\n",
      "\n",
      "   - Maintain the required space from the unit to the ceiling and wall according to the installation diagram.\n",
      "\n",
      "   - Ensure easy removal of the air filter.\n",
      "\n",
      "   - Keep the unit and remote controller at least 1m apart from television, radio, etc.\n",
      "\n",
      "   - Keep the unit away from fluorescent lamps.\n",
      "\n",
      "   - Do not obstruct the air inlet with any objects.\n",
      "\n",
      "   - Install the unit on a strong wall that can bear its weight.\n",
      "\n",
      "   - Install in a place that will not increase operation noise and vibration.\n",
      "\n",
      "   - Keep the unit away from direct sunlight, heating sources, flammable materials, and combustion apparatuses.\n",
      "\n",
      "\n",
      "\n",
      "2. Indoor unit installation:\n",
      "\n",
      "   - Install the mounting plate horizontally at the decided location.\n",
      "\n",
      "   - Drill holes on the wall for fixing the plate and insert plastic plugs.\n",
      "\n",
      "   - Fix the mounting plate with tapping screws.\n",
      "\n",
      "   - Ensure the mounting plate is securely fixed before drilling a hole for the pipe.\n",
      "\n",
      "\n",
      "\n",
      "These detailed instructions should help with the installation of the indoor unit.\n"
     ]
    }
   ],
   "execution_count": 19
  },
  {
   "metadata": {
    "ExecuteTime": {
     "end_time": "2024-06-28T07:11:06.581678Z",
     "start_time": "2024-06-28T07:11:02.824167Z"
    }
   },
   "cell_type": "code",
   "source": "chain.invoke('Give me details about eco mode.')",
   "outputs": [
    {
     "data": {
      "text/plain": [
       "'In Eco mode, the air conditioner operates with low noise performance and provides energy-saving performance by running on lower running currency. You can start the Sleep mode at the same time in Eco mode. To cancel Eco mode, you can press the MODE, FAN SPEED, SMART, or SUPER button. Please note that the Economy button is ineffective in SMART and SUPER mode.'"
      ]
     },
     "execution_count": 20,
     "metadata": {},
     "output_type": "execute_result"
    }
   ],
   "execution_count": 20
  },
  {
   "metadata": {},
   "cell_type": "code",
   "outputs": [],
   "execution_count": null,
   "source": ""
  }
 ],
 "metadata": {
  "kernelspec": {
   "display_name": "chatbot",
   "language": "python",
   "name": "python3"
  },
  "language_info": {
   "codemirror_mode": {
    "name": "ipython",
    "version": 3
   },
   "file_extension": ".py",
   "mimetype": "text/x-python",
   "name": "python",
   "nbconvert_exporter": "python",
   "pygments_lexer": "ipython3",
   "version": "3.12.2"
  }
 },
 "nbformat": 4,
 "nbformat_minor": 2
}
